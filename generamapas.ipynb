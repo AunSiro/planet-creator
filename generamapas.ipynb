{
 "cells": [
  {
   "cell_type": "code",
   "execution_count": null,
   "id": "f69957f9",
   "metadata": {},
   "outputs": [],
   "source": [
    "import numpy as np\n",
    "import matplotlib.pyplot as plt"
   ]
  },
  {
   "cell_type": "code",
   "execution_count": null,
   "id": "f50d79c4",
   "metadata": {},
   "outputs": [],
   "source": [
    "Nlat = 100\n",
    "Nlong = 200\n",
    "\n",
    "lat_vect = np.linspace(-np.pi/2, np.pi/2, Nlat)\n",
    "long_vect = np.linspace(-np.pi, np.pi, Nlong)\n",
    "\n",
    "xy_ones = np.ones([Nlat, Nlong])\n",
    "lat_arr = xy_ones * np.expand_dims(lat_vect, 1)\n",
    "long_arr = xy_ones * np.expand_dims(long_vect, 0)"
   ]
  },
  {
   "cell_type": "code",
   "execution_count": null,
   "id": "31d752ec",
   "metadata": {
    "scrolled": false
   },
   "outputs": [],
   "source": [
    "plt.matshow(lat_arr)"
   ]
  },
  {
   "cell_type": "code",
   "execution_count": null,
   "id": "3eb7ff31",
   "metadata": {
    "scrolled": false
   },
   "outputs": [],
   "source": [
    "plt.matshow(long_arr)"
   ]
  },
  {
   "cell_type": "code",
   "execution_count": null,
   "id": "581b8749",
   "metadata": {},
   "outputs": [],
   "source": [
    "def haversine(lon1, lat1, lon2, lat2):\n",
    "    dlon = lon2 - lon1\n",
    "    dlat = lat2 - lat1\n",
    "    a = np.sin(dlat / 2) ** 2 + np.cos(lat1) * np.cos(lat2) * np.sin(dlon / 2) ** 2\n",
    "    return np.arcsin(np.sqrt(a))"
   ]
  },
  {
   "cell_type": "code",
   "execution_count": null,
   "id": "35f8dfb0",
   "metadata": {},
   "outputs": [],
   "source": [
    "def dist_map(lon, lat, long_arr, lat_arr):\n",
    "    dist_arr = haversine(lon, lat, long_arr, lat_arr)\n",
    "    return dist_arr"
   ]
  },
  {
   "cell_type": "code",
   "execution_count": null,
   "id": "73a6481f",
   "metadata": {},
   "outputs": [],
   "source": [
    "plt.matshow(dist_map(0.5, 1, long_arr, lat_arr))"
   ]
  },
  {
   "cell_type": "code",
   "execution_count": null,
   "id": "0bb1c3c6",
   "metadata": {},
   "outputs": [],
   "source": [
    "from scipy.interpolate import RectBivariateSpline, RegularGridInterpolator"
   ]
  },
  {
   "cell_type": "code",
   "execution_count": null,
   "id": "5f116b94",
   "metadata": {},
   "outputs": [],
   "source": [
    "def ampliate(arr, N_hd = 1000):\n",
    "    n_y, n_x = arr.shape\n",
    "    lat_vec = np.linspace(-np.pi/2, np.pi/2, n_y)\n",
    "    long_vec = np.linspace(-np.pi/2, np.pi/2, n_x)\n",
    "    lat_vect_hd = np.linspace(-np.pi/2, np.pi/2, N_hd)\n",
    "    long_vect_hd = np.linspace(-np.pi, np.pi, N_hd*2)\n",
    "    xy_ones_hd = np.ones([N_hd, N_hd*2])\n",
    "    lat_arr_hd = xy_ones_hd * np.expand_dims(lat_vect_hd, 1)\n",
    "    long_arr_hd = xy_ones_hd * np.expand_dims(long_vect_hd, 0)\n",
    "    \n",
    "    _f = RectBivariateSpline(lat_vect, long_vect, arr, kx = 2, ky = 2)\n",
    "    newarr = _f(lat_vect_hd, long_vect_hd)\n",
    "    return newarr"
   ]
  },
  {
   "cell_type": "code",
   "execution_count": null,
   "id": "e74b48d2",
   "metadata": {},
   "outputs": [],
   "source": [
    "N_plates = 10\n",
    "\n",
    "centers = []\n",
    "for i in range(N_plates):\n",
    "    centers.append(tuple((np.random.rand(2)*2-1)*np.array([np.pi, np.pi/2])))\n",
    "\n",
    "cent_dist = np.zeros([Nlat, Nlong, N_plates])\n",
    "for i in range(N_plates):\n",
    "    cent_dist[:,:,i] = dist_map(*centers[i], long_arr, lat_arr)\n",
    "    #plt.matshow(cent_dist[:,:,i])"
   ]
  },
  {
   "cell_type": "code",
   "execution_count": null,
   "id": "b4c9d519",
   "metadata": {},
   "outputs": [],
   "source": [
    "N_hd = 1000\n",
    "\n",
    "for i in range(N_plates):\n",
    "    cent_dist_hd[:,:,i] = ampliate(cent_dist[:,:,i], N_hd)"
   ]
  },
  {
   "cell_type": "code",
   "execution_count": null,
   "id": "9f35a858",
   "metadata": {},
   "outputs": [],
   "source": [
    "plate_map = np.argmin(cent_dist_hd, axis=2)"
   ]
  },
  {
   "cell_type": "code",
   "execution_count": null,
   "id": "1a5465ba",
   "metadata": {},
   "outputs": [],
   "source": [
    "plt.figure(figsize=[18,9])\n",
    "plt.imshow(plate_map)"
   ]
  },
  {
   "cell_type": "code",
   "execution_count": null,
   "id": "36416488",
   "metadata": {},
   "outputs": [],
   "source": [
    "import opensimplex"
   ]
  },
  {
   "cell_type": "code",
   "execution_count": null,
   "id": "a6da79db",
   "metadata": {},
   "outputs": [],
   "source": [
    "def noise_sphere(long_arr, lat_arr, N = 200, scale = 2):\n",
    "    vector = np.linspace(-scale*np.pi, scale*np.pi, N)\n",
    "    opensimplex.random_seed()\n",
    "    noise_3d = opensimplex.noise3array(vector, vector,vector)\n",
    "    interp = RegularGridInterpolator((vector, vector, vector), noise_3d)\n",
    "    x_sph = np.cos(lat_arr)*np.cos(long_arr)*scale\n",
    "    y_sph = np.cos(lat_arr)*np.sin(long_arr)*scale\n",
    "    z_sph = np.sin(lat_arr)*scale\n",
    "    noise_interp = interp((x_sph, y_sph, z_sph))\n",
    "    return noise_interp"
   ]
  },
  {
   "cell_type": "code",
   "execution_count": null,
   "id": "56635f5e",
   "metadata": {},
   "outputs": [],
   "source": [
    "_noise_sph = noise_sphere(long_arr, lat_arr, N = 200, scale = 8)\n",
    "plt.figure(figsize=[18,9])\n",
    "plt.imshow(_noise_sph)"
   ]
  },
  {
   "cell_type": "code",
   "execution_count": null,
   "id": "c7257103",
   "metadata": {},
   "outputs": [],
   "source": [
    "plt.figure(figsize=[18,9])\n",
    "plt.imshow(ampliate(_noise_sph, 1000))"
   ]
  },
  {
   "cell_type": "code",
   "execution_count": null,
   "id": "d714e00f",
   "metadata": {},
   "outputs": [],
   "source": [
    "def fract_noise(x, y, level = 3):\n",
    "    opensimplex.random_seed()\n",
    "    base = opensimplex.noise2array(x, y)\n",
    "    for i in range(level-1):\n",
    "        j = i+2\n",
    "        opensimplex.random_seed()\n",
    "        base += opensimplex.noise2array(x*j, y*j)/j\n",
    "    minz = np.min(base)\n",
    "    maxz = np.max(base)\n",
    "    dz = maxz-minz\n",
    "    base = (base - minz)/dz\n",
    "    return base"
   ]
  },
  {
   "cell_type": "code",
   "execution_count": null,
   "id": "9a61177b",
   "metadata": {},
   "outputs": [],
   "source": [
    "def fract_noise_sphere(N_hd, level = 3, minlevel = 2, N = 100):\n",
    "    \n",
    "    lat_vec = np.linspace(-np.pi/2, np.pi/2, N)\n",
    "    long_vec = np.linspace(-np.pi/2, np.pi/2, 2*N)\n",
    "    \n",
    "    xy_ones = np.ones([N, 2*N])\n",
    "    lat_arr = xy_ones * np.expand_dims(lat_vect, 1)\n",
    "    long_arr = xy_ones * np.expand_dims(long_vect, 0)\n",
    "    \n",
    "    base = noise_sphere(long_arr, lat_arr, 2*N, scale = minlevel)\n",
    "    for i in range(minlevel+1, level+1):\n",
    "        base += noise_sphere(long_arr, lat_arr, 2*N, scale = i)\n",
    "    minz = np.min(base)\n",
    "    maxz = np.max(base)\n",
    "    dz = maxz-minz\n",
    "    base = (base - minz)/dz\n",
    "    return ampliate(base, N_hd)"
   ]
  },
  {
   "cell_type": "code",
   "execution_count": null,
   "id": "f91e5051",
   "metadata": {},
   "outputs": [],
   "source": [
    "plt.figure(figsize=[18,9])\n",
    "plt.imshow(fract_noise_sphere(1000,7))"
   ]
  },
  {
   "cell_type": "code",
   "execution_count": null,
   "id": "b3f8be5a",
   "metadata": {},
   "outputs": [],
   "source": [
    "def noisy_plates(N_plates = 10, N_hd = 1000, rand_k = 0.5, level = 3):\n",
    "\n",
    "    centers = []\n",
    "    for i in range(N_plates):\n",
    "        centers.append(tuple((np.random.rand(2)*2-1)*np.array([np.pi, np.pi/2])))\n",
    "\n",
    "    cent_dist = np.zeros([Nlat, Nlong, N_plates])\n",
    "    for i in range(N_plates):\n",
    "        cent_dist[:,:,i] = dist_map(*centers[i], long_arr, lat_arr) * (0.5 + rand_k *fract_noise_sphere(Nlat,level))\n",
    "        \n",
    "        \n",
    "    cent_dist_hd = np.zeros([N_hd, N_hd*2, N_plates])\n",
    "    for i in range(N_plates):\n",
    "        cent_dist_hd[:,:,i] = ampliate(cent_dist[:,:,i], N_hd)\n",
    "        \n",
    "    plate_map = np.argmin(cent_dist_hd, axis=2)\n",
    "    return plate_map, np.array(centers)"
   ]
  },
  {
   "cell_type": "code",
   "execution_count": null,
   "id": "d73eda5e",
   "metadata": {},
   "outputs": [],
   "source": [
    "plates, centers = noisy_plates(rand_k=0.3, level = 5)"
   ]
  },
  {
   "cell_type": "code",
   "execution_count": null,
   "id": "83e8d100",
   "metadata": {},
   "outputs": [],
   "source": [
    "centers_mov = np.random.rand(10, 2)\n",
    "centers_mov[:,0] = centers_mov[:,0]*2*np.pi\n",
    "c_mov_uv = np.zeros_like(centers_mov)\n",
    "c_mov_uv[:,0] = centers_mov[:,1] * np.cos(centers_mov[:,0])\n",
    "c_mov_uv[:,1] = centers_mov[:,1] * np.sin(centers_mov[:,0])"
   ]
  },
  {
   "cell_type": "code",
   "execution_count": null,
   "id": "b8558a17",
   "metadata": {},
   "outputs": [],
   "source": [
    "plt.figure(figsize=[18,9])\n",
    "plt.imshow(plates, origin = 'lower', extent = (-np.pi, np.pi, -np.pi/2, np.pi/2))\n",
    "plt.scatter(centers[:,0],centers[:,1], c = 'red')\n",
    "plt.quiver(centers[:,0],centers[:,1],c_mov_uv[:,0],c_mov_uv[:,1])"
   ]
  },
  {
   "cell_type": "code",
   "execution_count": null,
   "id": "efc4fc9b",
   "metadata": {},
   "outputs": [],
   "source": [
    "c_mov_cart = np.zeros([10,3])\n",
    "_u = c_mov_uv[:,0]\n",
    "_v = c_mov_uv[:,1]\n",
    "_lat = centers[:,1]\n",
    "_long = centers[:,0]\n",
    "c_mov_cart[:,0] = - _u * np.sin(_long) - _v * np.sin(_lat)*np.cos(_long)\n",
    "c_mov_cart[:,1] =   _u * np.cos(_long) - _v * np.sin(_lat)*np.sin(_long)\n",
    "c_mov_cart[:,2] =   _v * np.cos(_lat)"
   ]
  },
  {
   "cell_type": "code",
   "execution_count": null,
   "id": "d835ed73",
   "metadata": {},
   "outputs": [],
   "source": [
    "centers_cart = np.zeros([10,3])\n",
    "centers_cart[:,0] = np.cos(_lat)*np.cos(_long)\n",
    "centers_cart[:,1] = np.cos(_lat)*np.sin(_long)\n",
    "centers_cart[:,2] = np.sin(_lat)"
   ]
  },
  {
   "cell_type": "code",
   "execution_count": null,
   "id": "ec90c3e3",
   "metadata": {},
   "outputs": [],
   "source": [
    "omegas = np.cross(c_mov_cart,centers_cart)"
   ]
  },
  {
   "cell_type": "code",
   "execution_count": null,
   "id": "3fe80d14",
   "metadata": {},
   "outputs": [],
   "source": [
    "cart_arr = np.zeros([100,200,3])\n",
    "cart_arr[:,:,0] = np.cos(lat_arr)*np.cos(long_arr)\n",
    "cart_arr[:,:,1] = np.cos(lat_arr)*np.sin(long_arr)\n",
    "cart_arr[:,:,2] = np.sin(lat_arr)"
   ]
  },
  {
   "cell_type": "code",
   "execution_count": null,
   "id": "8d5ab483",
   "metadata": {},
   "outputs": [],
   "source": [
    "surf_speeds_map_cart = np.zeros([100 ,200, 10, 3 ])\n",
    "for ii in range(10):\n",
    "    surf_speeds_map_cart[:,:,ii,:] = np.cross(cart_arr, omegas[ii,:])"
   ]
  },
  {
   "cell_type": "code",
   "execution_count": null,
   "id": "d0f42e3c",
   "metadata": {},
   "outputs": [],
   "source": [
    "rot_matrix = np.zeros([100,200,3,3])\n",
    "rot_matrix[:,:,0,0]= -np.sin(long_arr)\n",
    "rot_matrix[:,:,0,1]= -np.sin(lat_arr) * np.cos(long_arr)\n",
    "rot_matrix[:,:,0,2]= np.cos(lat_arr) * np.cos(long_arr)\n",
    "rot_matrix[:,:,1,0]= np.cos(long_arr)\n",
    "rot_matrix[:,:,1,1]= -np.sin(lat_arr) * np.sin(long_arr)\n",
    "rot_matrix[:,:,1,2]= np.cos(lat_arr) * np.sin(long_arr)\n",
    "rot_matrix[:,:,2,0]= 0\n",
    "rot_matrix[:,:,2,1]= np.cos(lat_arr)\n",
    "rot_matrix[:,:,2,2]= np.sin(lat_arr)"
   ]
  },
  {
   "cell_type": "code",
   "execution_count": null,
   "id": "22214dda",
   "metadata": {},
   "outputs": [],
   "source": [
    "surf_speeds_map = np.matmul(surf_speeds_map_cart, rot_matrix)"
   ]
  },
  {
   "cell_type": "code",
   "execution_count": null,
   "id": "806a8484",
   "metadata": {},
   "outputs": [],
   "source": [
    "speedmap = np.zeros([100,200,2])\n",
    "reduced_plate = plates[::10,::10]\n",
    "for i in range(100):\n",
    "    for j in range(200):\n",
    "        ind_map = reduced_plate[i,j]\n",
    "        speedmap[i,j,:] = surf_speeds_map[i,j,ind_map,:2]"
   ]
  },
  {
   "cell_type": "code",
   "execution_count": null,
   "id": "c4aca1dc",
   "metadata": {},
   "outputs": [],
   "source": [
    "plt.figure(figsize=[18,9])\n",
    "plt.imshow(plates, origin = 'lower', extent = (-np.pi, np.pi, -np.pi/2, np.pi/2))\n",
    "plt.scatter(centers[:,0],centers[:,1], c = 'red')\n",
    "plt.quiver(centers[:,0],centers[:,1],c_mov_uv[:,0],c_mov_uv[:,1], alpha = 0.5)\n",
    "plt.quiver(long_arr[::5,::5] ,lat_arr[::5,::5],speedmap[::5,::5,0],speedmap[::5,::5,1])"
   ]
  },
  {
   "cell_type": "code",
   "execution_count": null,
   "id": "3aba215e",
   "metadata": {},
   "outputs": [],
   "source": []
  }
 ],
 "metadata": {
  "kernelspec": {
   "display_name": "Python 3 (ipykernel)",
   "language": "python",
   "name": "python3"
  },
  "language_info": {
   "codemirror_mode": {
    "name": "ipython",
    "version": 3
   },
   "file_extension": ".py",
   "mimetype": "text/x-python",
   "name": "python",
   "nbconvert_exporter": "python",
   "pygments_lexer": "ipython3",
   "version": "3.8.8"
  }
 },
 "nbformat": 4,
 "nbformat_minor": 5
}
